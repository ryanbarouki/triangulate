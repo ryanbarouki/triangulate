{
 "cells": [
  {
   "cell_type": "code",
   "execution_count": 1,
   "metadata": {},
   "outputs": [
    {
     "name": "stderr",
     "output_type": "stream",
     "text": [
      "2022-06-16 14:58:43.192 Python[6721:293269] ApplePersistenceIgnoreState: Existing state will not be touched. New state will be written to (null)\n"
     ]
    }
   ],
   "source": [
    "%matplotlib qt\n",
    "from triangulator import Triangulator\n",
    "import networkx as nx\n",
    "import numpy as np\n",
    "import scipy.sparse as scsp\n",
    "import scipy.linalg as sclin\n",
    "\n",
    "\n",
    "from shapes import Octahedron, Tetrahedron"
   ]
  },
  {
   "cell_type": "code",
   "execution_count": 2,
   "metadata": {},
   "outputs": [],
   "source": [
    "def M(adj):\n",
    "    # adj is assumed to be a scipy sparse matrix\n",
    "    q = np.array(adj.sum(axis=0))[0]\n",
    "    mat = scsp.diags(q)\n",
    "    return mat - adj\n",
    "\n",
    "def M_dense(adj):\n",
    "    # for normal matrices\n",
    "    q = lambda i: sum(adj[i,])\n",
    "    mat = np.diag([q(i) for i in range(len(adj))])\n",
    "    return mat - adj\n",
    "\n",
    "def det(mat):\n",
    "    eigvals, eigvecs = sclin.eig(mat.toarray())\n",
    "    det = 1\n",
    "    zero = False\n",
    "    for eig in eigvals:\n",
    "        # we want to remove the one zero mode\n",
    "        if abs(eig) == 0 and not zero:\n",
    "            zero = True\n",
    "            continue\n",
    "        det *= eig\n",
    "    return det\n",
    "            \n",
    "    "
   ]
  },
  {
   "cell_type": "code",
   "execution_count": 3,
   "metadata": {},
   "outputs": [
    {
     "name": "stderr",
     "output_type": "stream",
     "text": [
      "/var/folders/km/v1hc8z2n0nl700f242z21gmm0000gn/T/ipykernel_6721/4212024770.py:8: FutureWarning: adjacency_matrix will return a scipy.sparse array instead of a matrix in Networkx 3.0.\n",
      "  mat = M(nx.adjacency_matrix(G))\n",
      "/var/folders/km/v1hc8z2n0nl700f242z21gmm0000gn/T/ipykernel_6721/4212024770.py:9: FutureWarning: adjacency_matrix will return a scipy.sparse array instead of a matrix in Networkx 3.0.\n",
      "  mat2 = M(nx.adjacency_matrix(G2))\n",
      "/var/folders/km/v1hc8z2n0nl700f242z21gmm0000gn/T/ipykernel_6721/266057286.py:22: RuntimeWarning: overflow encountered in cdouble_scalars\n",
      "  det *= eig\n",
      "/var/folders/km/v1hc8z2n0nl700f242z21gmm0000gn/T/ipykernel_6721/266057286.py:22: RuntimeWarning: invalid value encountered in cdouble_scalars\n",
      "  det *= eig\n"
     ]
    },
    {
     "name": "stdout",
     "output_type": "stream",
     "text": [
      "(nan+nanj), N=1026\n",
      "(2.1100754566062546e+139+0j), N=1026\n"
     ]
    }
   ],
   "source": [
    "DEPTH = 4\n",
    "# these have the same number of vertices\n",
    "triangulator = Triangulator(Octahedron(), DEPTH, \"edge\")\n",
    "midpoint_triag = Triangulator(Octahedron(), DEPTH + 2, \"midpoint\")\n",
    "\n",
    "G = triangulator.get_graph()\n",
    "G2 = midpoint_triag.get_graph()\n",
    "mat = M(nx.adjacency_matrix(G))\n",
    "mat2 = M(nx.adjacency_matrix(G2))\n",
    "\n",
    "print(f\"{det(mat)}, N={mat.shape[0]}\")\n",
    "print(f\"{det(mat2)}, N={mat.shape[0]}\")\n",
    "triangulator.draw()\n",
    "midpoint_triag.draw()"
   ]
  },
  {
   "cell_type": "code",
   "execution_count": 3,
   "metadata": {},
   "outputs": [
    {
     "name": "stderr",
     "output_type": "stream",
     "text": [
      "/var/folders/km/v1hc8z2n0nl700f242z21gmm0000gn/T/ipykernel_5096/77881940.py:8: FutureWarning: adjacency_matrix will return a scipy.sparse array instead of a matrix in Networkx 3.0.\n",
      "  mat = M(nx.adjacency_matrix(G))\n",
      "/var/folders/km/v1hc8z2n0nl700f242z21gmm0000gn/T/ipykernel_5096/77881940.py:9: FutureWarning: adjacency_matrix will return a scipy.sparse array instead of a matrix in Networkx 3.0.\n",
      "  mat2 = M(nx.adjacency_matrix(G2))\n"
     ]
    },
    {
     "name": "stdout",
     "output_type": "stream",
     "text": [
      "(0.0009165611118078269+0j), N=18\n",
      "(1.6474811166068216e+52+0j), N=18\n"
     ]
    }
   ],
   "source": [
    "DEPTH = 1\n",
    "# these have the same number of vertices\n",
    "triangulator = Triangulator(Octahedron(), DEPTH, \"edge\")\n",
    "midpoint_triag = Triangulator(Octahedron(), DEPTH + 2, \"centroid\")\n",
    "\n",
    "G = triangulator.get_graph()\n",
    "G2 = midpoint_triag.get_graph()\n",
    "mat = M(nx.adjacency_matrix(G))\n",
    "mat2 = M(nx.adjacency_matrix(G2))\n",
    "\n",
    "print(f\"{det(mat)}, N={mat.shape[0]}\")\n",
    "print(f\"{det(mat2)}, N={mat.shape[0]}\")\n",
    "triangulator.draw()\n",
    "midpoint_triag.draw()"
   ]
  },
  {
   "cell_type": "code",
   "execution_count": 7,
   "metadata": {},
   "outputs": [
    {
     "name": "stdout",
     "output_type": "stream",
     "text": [
      "(-4.431265040466756e+249+0j), N=386\n"
     ]
    },
    {
     "name": "stderr",
     "output_type": "stream",
     "text": [
      "/var/folders/km/v1hc8z2n0nl700f242z21gmm0000gn/T/ipykernel_6721/487792025.py:6: FutureWarning: adjacency_matrix will return a scipy.sparse array instead of a matrix in Networkx 3.0.\n",
      "  mat = M(nx.adjacency_matrix(G))\n"
     ]
    }
   ],
   "source": [
    "DEPTH = 4\n",
    "# these have the same number of vertices\n",
    "triangulator = Triangulator(Tetrahedron(), DEPTH, \"hybrid3\")\n",
    "\n",
    "G = triangulator.get_graph()\n",
    "mat = M(nx.adjacency_matrix(G))\n",
    "\n",
    "print(f\"{det(mat)}, N={mat.shape[0]}\")\n",
    "triangulator.draw()"
   ]
  },
  {
   "cell_type": "code",
   "execution_count": null,
   "metadata": {},
   "outputs": [],
   "source": []
  }
 ],
 "metadata": {
  "kernelspec": {
   "display_name": "Python 3.8.5 64-bit",
   "language": "python",
   "name": "python3"
  },
  "language_info": {
   "codemirror_mode": {
    "name": "ipython",
    "version": 3
   },
   "file_extension": ".py",
   "mimetype": "text/x-python",
   "name": "python",
   "nbconvert_exporter": "python",
   "pygments_lexer": "ipython3",
   "version": "3.8.5"
  },
  "orig_nbformat": 4,
  "vscode": {
   "interpreter": {
    "hash": "aee8b7b246df8f9039afb4144a1f6fd8d2ca17a180786b69acc140d282b71a49"
   }
  }
 },
 "nbformat": 4,
 "nbformat_minor": 2
}
