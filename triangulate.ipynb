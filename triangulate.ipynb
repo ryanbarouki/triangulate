{
 "cells": [
  {
   "cell_type": "code",
   "execution_count": 1,
   "metadata": {},
   "outputs": [
    {
     "name": "stderr",
     "output_type": "stream",
     "text": [
      "2022-06-15 14:06:26.165 Python[43462:1603254] ApplePersistenceIgnoreState: Existing state will not be touched. New state will be written to (null)\n"
     ]
    }
   ],
   "source": [
    "%matplotlib qt\n",
    "from triangulator import Triangulator\n",
    "import networkx as nx\n",
    "from shapes import Octahedron"
   ]
  },
  {
   "cell_type": "code",
   "execution_count": 2,
   "metadata": {},
   "outputs": [
    {
     "name": "stdout",
     "output_type": "stream",
     "text": [
      "[[0 1 1 1 1 1 1 1 1 0]\n",
      " [1 0 1 1 0 0 0 0 0 1]\n",
      " [1 1 0 0 0 0 0 0 1 1]\n",
      " [1 1 0 0 1 0 0 0 0 1]\n",
      " [1 0 0 1 0 1 0 0 0 1]\n",
      " [1 0 0 0 1 0 1 0 0 1]\n",
      " [1 0 0 0 0 1 0 1 0 1]\n",
      " [1 0 0 0 0 0 1 0 1 1]\n",
      " [1 0 1 0 0 0 0 1 0 1]\n",
      " [0 1 1 1 1 1 1 1 1 0]]\n"
     ]
    },
    {
     "name": "stderr",
     "output_type": "stream",
     "text": [
      "/var/folders/km/v1hc8z2n0nl700f242z21gmm0000gn/T/ipykernel_43462/1508257072.py:4: FutureWarning: adjacency_matrix will return a scipy.sparse array instead of a matrix in Networkx 3.0.\n",
      "  print(nx.adjacency_matrix(G).todense())\n"
     ]
    }
   ],
   "source": [
    "DEPTH = 1\n",
    "triangulator = Triangulator(Octahedron(), DEPTH, \"midpoint2\")\n",
    "G = triangulator.get_graph()\n",
    "print(nx.adjacency_matrix(G).todense())"
   ]
  },
  {
   "cell_type": "code",
   "execution_count": 10,
   "metadata": {},
   "outputs": [],
   "source": [
    "triangulator.draw()"
   ]
  },
  {
   "cell_type": "code",
   "execution_count": null,
   "metadata": {},
   "outputs": [],
   "source": []
  }
 ],
 "metadata": {
  "kernelspec": {
   "display_name": "Python 3.8.5 64-bit",
   "language": "python",
   "name": "python3"
  },
  "language_info": {
   "codemirror_mode": {
    "name": "ipython",
    "version": 3
   },
   "file_extension": ".py",
   "mimetype": "text/x-python",
   "name": "python",
   "nbconvert_exporter": "python",
   "pygments_lexer": "ipython3",
   "version": "3.8.5"
  },
  "orig_nbformat": 4,
  "vscode": {
   "interpreter": {
    "hash": "aee8b7b246df8f9039afb4144a1f6fd8d2ca17a180786b69acc140d282b71a49"
   }
  }
 },
 "nbformat": 4,
 "nbformat_minor": 2
}
