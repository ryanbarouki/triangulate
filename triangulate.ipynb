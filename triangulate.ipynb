{
 "cells": [
  {
   "cell_type": "code",
   "execution_count": 87,
   "metadata": {},
   "outputs": [],
   "source": [
    "%matplotlib qt\n",
    "from triangulator import Triangulator\n",
    "import networkx as nx\n",
    "import numpy as np\n",
    "import scipy.sparse as scsp\n",
    "import scipy.linalg as sclin\n",
    "\n",
    "\n",
    "from shapes import Octahedron"
   ]
  },
  {
   "cell_type": "code",
   "execution_count": 96,
   "metadata": {},
   "outputs": [],
   "source": [
    "def M(adj):\n",
    "    # adj is assumed to be a scipy sparse matrix\n",
    "    q = np.array(adj.sum(axis=0))[0]\n",
    "    mat = scsp.diags(q)\n",
    "    return mat - adj\n",
    "\n",
    "def M_dense(adj):\n",
    "    # for normal matrices\n",
    "    q = lambda i: sum(adj[i,])\n",
    "    mat = np.diag([q(i) for i in range(len(adj))])\n",
    "    return mat - adj\n",
    "\n",
    "def det(mat):\n",
    "    eigvals, eigvecs = sclin.eig(mat.toarray())\n",
    "    det = 1\n",
    "    zero = False\n",
    "    for eig in eigvals:\n",
    "        # we want to remove the one zero mode\n",
    "        if abs(eig) == 0 and not zero:\n",
    "            zero = True\n",
    "            continue\n",
    "        det *= eig\n",
    "    return det\n",
    "            \n",
    "    "
   ]
  },
  {
   "cell_type": "code",
   "execution_count": 105,
   "metadata": {},
   "outputs": [
    {
     "name": "stderr",
     "output_type": "stream",
     "text": [
      "/var/folders/km/v1hc8z2n0nl700f242z21gmm0000gn/T/ipykernel_45182/1710054368.py:4: FutureWarning: adjacency_matrix will return a scipy.sparse array instead of a matrix in Networkx 3.0.\n",
      "  mat = M(nx.adjacency_matrix(G))\n",
      "/var/folders/km/v1hc8z2n0nl700f242z21gmm0000gn/T/ipykernel_45182/4070693740.py:21: RuntimeWarning: overflow encountered in cdouble_scalars\n",
      "  det *= eig\n",
      "/var/folders/km/v1hc8z2n0nl700f242z21gmm0000gn/T/ipykernel_45182/4070693740.py:21: RuntimeWarning: invalid value encountered in cdouble_scalars\n",
      "  det *= eig\n"
     ]
    },
    {
     "name": "stdout",
     "output_type": "stream",
     "text": [
      "(nan+nanj)\n"
     ]
    }
   ],
   "source": [
    "DEPTH = 5\n",
    "triangulator = Triangulator(Octahedron(), DEPTH, \"edge\")\n",
    "G = triangulator.get_graph()\n",
    "mat = M(nx.adjacency_matrix(G))\n",
    "\n",
    "print(det(mat))\n",
    "triangulator.draw()"
   ]
  },
  {
   "cell_type": "code",
   "execution_count": 102,
   "metadata": {},
   "outputs": [],
   "source": []
  },
  {
   "cell_type": "code",
   "execution_count": null,
   "metadata": {},
   "outputs": [],
   "source": []
  }
 ],
 "metadata": {
  "kernelspec": {
   "display_name": "Python 3.8.5 64-bit",
   "language": "python",
   "name": "python3"
  },
  "language_info": {
   "codemirror_mode": {
    "name": "ipython",
    "version": 3
   },
   "file_extension": ".py",
   "mimetype": "text/x-python",
   "name": "python",
   "nbconvert_exporter": "python",
   "pygments_lexer": "ipython3",
   "version": "3.8.5"
  },
  "orig_nbformat": 4,
  "vscode": {
   "interpreter": {
    "hash": "aee8b7b246df8f9039afb4144a1f6fd8d2ca17a180786b69acc140d282b71a49"
   }
  }
 },
 "nbformat": 4,
 "nbformat_minor": 2
}
