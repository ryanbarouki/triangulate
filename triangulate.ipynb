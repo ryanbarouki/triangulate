{
 "cells": [
  {
   "cell_type": "code",
   "execution_count": 1,
   "metadata": {},
   "outputs": [
    {
     "name": "stderr",
     "output_type": "stream",
     "text": [
      "2022-06-23 11:19:48.389 Python[39739:1384040] ApplePersistenceIgnoreState: Existing state will not be touched. New state will be written to (null)\n"
     ]
    }
   ],
   "source": [
    "%matplotlib qt\n",
    "from triangulator import Triangulator\n",
    "import networkx as nx\n",
    "import numpy as np\n",
    "import scipy.sparse as scsp\n",
    "import scipy.linalg as sclin\n",
    "\n",
    "\n",
    "from shapes import Octahedron, Tetrahedron"
   ]
  },
  {
   "cell_type": "code",
   "execution_count": 11,
   "metadata": {},
   "outputs": [],
   "source": [
    "def M(adj):\n",
    "    # adj is assumed to be a scipy sparse matrix\n",
    "    q = np.array(adj.sum(axis=0))[0]\n",
    "    mat = scsp.diags(q)\n",
    "    return mat - adj\n",
    "\n",
    "def M_dense(adj):\n",
    "    # for normal matrices\n",
    "    q = lambda i: sum(adj[i,])\n",
    "    mat = np.diag([q(i) for i in range(len(adj))])\n",
    "    return mat - adj\n",
    "\n",
    "def det(mat):\n",
    "    eigvals, eigvecs = sclin.eig(mat.toarray())\n",
    "    det = 1\n",
    "    zero = False\n",
    "    for eig in eigvals:\n",
    "        # we want to remove the one zero mode\n",
    "        if abs(eig) == 0 and not zero:\n",
    "            zero = True\n",
    "            continue\n",
    "        det *= eig\n",
    "    return det\n",
    "            \n",
    "def euler_char(graph, mesh):\n",
    "    V = graph.number_of_nodes()\n",
    "    E = graph.number_of_edges()\n",
    "    F = len(mesh.faces)\n",
    "    print(f\"V:{V}, E:{E}, F:{F}\")\n",
    "    return V - E + F\n",
    "    "
   ]
  },
  {
   "cell_type": "code",
   "execution_count": 12,
   "metadata": {},
   "outputs": [
    {
     "name": "stdout",
     "output_type": "stream",
     "text": [
      "V:130, E:384, F:256\n",
      "Euler character: 2\n",
      "number of edges: 384\n",
      "(-1.4447272277623452e+75+0j), N=130\n",
      "(-7.189204433510978e+71+0j), N=160\n"
     ]
    },
    {
     "name": "stderr",
     "output_type": "stream",
     "text": [
      "/var/folders/km/v1hc8z2n0nl700f242z21gmm0000gn/T/ipykernel_39739/2955263535.py:10: FutureWarning: adjacency_matrix will return a scipy.sparse array instead of a matrix in Networkx 3.0.\n",
      "  mat = M(nx.adjacency_matrix(G))\n",
      "/var/folders/km/v1hc8z2n0nl700f242z21gmm0000gn/T/ipykernel_39739/2955263535.py:11: FutureWarning: adjacency_matrix will return a scipy.sparse array instead of a matrix in Networkx 3.0.\n",
      "  mat2 = M(nx.adjacency_matrix(G2))\n"
     ]
    }
   ],
   "source": [
    "DEPTH = 3\n",
    "# these have the same number of vertices\n",
    "triangulator = Triangulator(Tetrahedron(), DEPTH, \"edge\")\n",
    "midpoint_triag = Triangulator(Tetrahedron(), DEPTH+3, \"midpoint\")\n",
    "\n",
    "G, mesh1 = triangulator.get_graph()\n",
    "print(f\"Euler character: {euler_char(G, mesh1)}\")\n",
    "print(f\"number of edges: {G.number_of_edges()}\")\n",
    "G2, mesh2 = midpoint_triag.get_graph()\n",
    "mat = M(nx.adjacency_matrix(G))\n",
    "mat2 = M(nx.adjacency_matrix(G2))\n",
    "\n",
    "print(f\"{det(mat)}, N={mat.shape[0]}\")\n",
    "print(f\"{det(mat2)}, N={mat2.shape[0]}\")\n",
    "triangulator.draw()\n",
    "midpoint_triag.draw()"
   ]
  },
  {
   "cell_type": "code",
   "execution_count": 6,
   "metadata": {},
   "outputs": [
    {
     "name": "stdout",
     "output_type": "stream",
     "text": [
      "(-4.431265040466756e+249+0j), N=386\n"
     ]
    },
    {
     "name": "stderr",
     "output_type": "stream",
     "text": [
      "/var/folders/km/v1hc8z2n0nl700f242z21gmm0000gn/T/ipykernel_19661/487792025.py:6: FutureWarning: adjacency_matrix will return a scipy.sparse array instead of a matrix in Networkx 3.0.\n",
      "  mat = M(nx.adjacency_matrix(G))\n"
     ]
    }
   ],
   "source": [
    "DEPTH = 4\n",
    "# these have the same number of vertices\n",
    "triangulator = Triangulator(Tetrahedron(), DEPTH, \"hybrid3\")\n",
    "\n",
    "G = triangulator.get_graph()\n",
    "mat = M(nx.adjacency_matrix(G))\n",
    "\n",
    "print(f\"{det(mat)}, N={mat.shape[0]}\")\n",
    "triangulator.draw()"
   ]
  },
  {
   "cell_type": "code",
   "execution_count": 32,
   "metadata": {},
   "outputs": [
    {
     "name": "stdout",
     "output_type": "stream",
     "text": [
      "130\n",
      "384\n"
     ]
    }
   ],
   "source": [
    "V = lambda d: 2 + 3*2**(2*d+1) - 4**(d+1)\n",
    "print(V(3))\n",
    "\n",
    "def E(d):\n",
    "    if d == 0:\n",
    "        return 6\n",
    "    return 3*4**d + E(d-1)*2\n",
    "\n",
    "print(E(3))"
   ]
  },
  {
   "cell_type": "code",
   "execution_count": 2,
   "metadata": {},
   "outputs": [
    {
     "ename": "IndexError",
     "evalue": "too many indices for array: array is 1-dimensional, but 2 were indexed",
     "output_type": "error",
     "traceback": [
      "\u001b[0;31m---------------------------------------------------------------------------\u001b[0m",
      "\u001b[0;31mIndexError\u001b[0m                                Traceback (most recent call last)",
      "\u001b[1;32m/Users/ryanbarouki/Documents/PhD/Research/JT_Gravity_and_all_that/Triangulate/triangulate.ipynb Cell 2'\u001b[0m in \u001b[0;36m<cell line: 2>\u001b[0;34m()\u001b[0m\n\u001b[1;32m      <a href='vscode-notebook-cell:/Users/ryanbarouki/Documents/PhD/Research/JT_Gravity_and_all_that/Triangulate/triangulate.ipynb#ch0000001?line=0'>1</a>\u001b[0m triangulator \u001b[39m=\u001b[39m Triangulator(Tetrahedron(), \u001b[39m1\u001b[39m, \u001b[39m\"\u001b[39m\u001b[39medge\u001b[39m\u001b[39m\"\u001b[39m)\n\u001b[0;32m----> <a href='vscode-notebook-cell:/Users/ryanbarouki/Documents/PhD/Research/JT_Gravity_and_all_that/Triangulate/triangulate.ipynb#ch0000001?line=1'>2</a>\u001b[0m triangulator\u001b[39m.\u001b[39;49mgenerate_random_triangluation(\u001b[39m10\u001b[39;49m)\n",
      "File \u001b[0;32m~/Documents/PhD/Research/JT_Gravity_and_all_that/Triangulate/triangulator.py:38\u001b[0m, in \u001b[0;36mTriangulator.generate_random_triangluation\u001b[0;34m(self, N)\u001b[0m\n\u001b[1;32m     36\u001b[0m     \u001b[39mfor\u001b[39;00m j, new_faces \u001b[39min\u001b[39;00m \u001b[39menumerate\u001b[39m(\u001b[39mself\u001b[39m\u001b[39m.\u001b[39msubdivide_centroid(random_face, \u001b[39m1\u001b[39m)):\n\u001b[1;32m     37\u001b[0m         faces\u001b[39m.\u001b[39mappend(new_faces)\n\u001b[0;32m---> 38\u001b[0m \u001b[39mreturn\u001b[39;00m \u001b[39mself\u001b[39;49m\u001b[39m.\u001b[39;49mget_graph_from_faces(new_faces)\n",
      "File \u001b[0;32m~/Documents/PhD/Research/JT_Gravity_and_all_that/Triangulate/triangulator.py:43\u001b[0m, in \u001b[0;36mTriangulator.get_graph_from_faces\u001b[0;34m(self, new_faces)\u001b[0m\n\u001b[1;32m     41\u001b[0m mesh \u001b[39m=\u001b[39m tri\u001b[39m.\u001b[39mTrimesh(faces\u001b[39m=\u001b[39mnew_faces)\n\u001b[1;32m     42\u001b[0m graph \u001b[39m=\u001b[39m nx\u001b[39m.\u001b[39mGraph()\n\u001b[0;32m---> 43\u001b[0m \u001b[39mprint\u001b[39m(mesh\u001b[39m.\u001b[39;49medges)\n\u001b[1;32m     44\u001b[0m graph\u001b[39m.\u001b[39madd_edges_from(mesh\u001b[39m.\u001b[39medges)\n\u001b[1;32m     45\u001b[0m \u001b[39mreturn\u001b[39;00m graph\n",
      "File \u001b[0;32m/Library/Frameworks/Python.framework/Versions/3.8/lib/python3.8/site-packages/trimesh/caching.py:109\u001b[0m, in \u001b[0;36mcache_decorator.<locals>.get_cached\u001b[0;34m(*args, **kwargs)\u001b[0m\n\u001b[1;32m    107\u001b[0m     \u001b[39mreturn\u001b[39;00m \u001b[39mself\u001b[39m\u001b[39m.\u001b[39m_cache\u001b[39m.\u001b[39mcache[name]\n\u001b[1;32m    108\u001b[0m \u001b[39m# value not in cache so execute the function\u001b[39;00m\n\u001b[0;32m--> 109\u001b[0m value \u001b[39m=\u001b[39m function(\u001b[39m*\u001b[39;49margs, \u001b[39m*\u001b[39;49m\u001b[39m*\u001b[39;49mkwargs)\n\u001b[1;32m    110\u001b[0m \u001b[39m# store the value\u001b[39;00m\n\u001b[1;32m    111\u001b[0m \u001b[39mif\u001b[39;00m \u001b[39mself\u001b[39m\u001b[39m.\u001b[39m_cache\u001b[39m.\u001b[39mforce_immutable \u001b[39mand\u001b[39;00m \u001b[39mhasattr\u001b[39m(\n\u001b[1;32m    112\u001b[0m         value, \u001b[39m'\u001b[39m\u001b[39mflags\u001b[39m\u001b[39m'\u001b[39m) \u001b[39mand\u001b[39;00m \u001b[39mlen\u001b[39m(value\u001b[39m.\u001b[39mshape) \u001b[39m>\u001b[39m \u001b[39m0\u001b[39m:\n",
      "File \u001b[0;32m/Library/Frameworks/Python.framework/Versions/3.8/lib/python3.8/site-packages/trimesh/base.py:866\u001b[0m, in \u001b[0;36mTrimesh.edges\u001b[0;34m(self)\u001b[0m\n\u001b[1;32m    856\u001b[0m \u001b[39m@caching\u001b[39m\u001b[39m.\u001b[39mcache_decorator\n\u001b[1;32m    857\u001b[0m \u001b[39mdef\u001b[39;00m \u001b[39medges\u001b[39m(\u001b[39mself\u001b[39m):\n\u001b[1;32m    858\u001b[0m     \u001b[39m\"\"\"\u001b[39;00m\n\u001b[1;32m    859\u001b[0m \u001b[39m    Edges of the mesh (derived from faces).\u001b[39;00m\n\u001b[1;32m    860\u001b[0m \n\u001b[0;32m   (...)\u001b[0m\n\u001b[1;32m    864\u001b[0m \u001b[39m      List of vertex indices making up edges\u001b[39;00m\n\u001b[1;32m    865\u001b[0m \u001b[39m    \"\"\"\u001b[39;00m\n\u001b[0;32m--> 866\u001b[0m     edges, index \u001b[39m=\u001b[39m geometry\u001b[39m.\u001b[39;49mfaces_to_edges(\u001b[39mself\u001b[39;49m\u001b[39m.\u001b[39;49mfaces\u001b[39m.\u001b[39;49mview(np\u001b[39m.\u001b[39;49mndarray),\n\u001b[1;32m    867\u001b[0m                                            return_index\u001b[39m=\u001b[39;49m\u001b[39mTrue\u001b[39;49;00m)\n\u001b[1;32m    868\u001b[0m     \u001b[39mself\u001b[39m\u001b[39m.\u001b[39m_cache[\u001b[39m'\u001b[39m\u001b[39medges_face\u001b[39m\u001b[39m'\u001b[39m] \u001b[39m=\u001b[39m index\n\u001b[1;32m    869\u001b[0m     \u001b[39mreturn\u001b[39;00m edges\n",
      "File \u001b[0;32m/Library/Frameworks/Python.framework/Versions/3.8/lib/python3.8/site-packages/trimesh/geometry.py:108\u001b[0m, in \u001b[0;36mfaces_to_edges\u001b[0;34m(faces, return_index)\u001b[0m\n\u001b[1;32m    105\u001b[0m faces \u001b[39m=\u001b[39m np\u001b[39m.\u001b[39masanyarray(faces)\n\u001b[1;32m    107\u001b[0m \u001b[39m# each face has three edges\u001b[39;00m\n\u001b[0;32m--> 108\u001b[0m edges \u001b[39m=\u001b[39m faces[:, [\u001b[39m0\u001b[39;49m, \u001b[39m1\u001b[39;49m, \u001b[39m1\u001b[39;49m, \u001b[39m2\u001b[39;49m, \u001b[39m2\u001b[39;49m, \u001b[39m0\u001b[39;49m]]\u001b[39m.\u001b[39mreshape((\u001b[39m-\u001b[39m\u001b[39m1\u001b[39m, \u001b[39m2\u001b[39m))\n\u001b[1;32m    110\u001b[0m \u001b[39mif\u001b[39;00m return_index:\n\u001b[1;32m    111\u001b[0m     \u001b[39m# edges are in order of faces due to reshape\u001b[39;00m\n\u001b[1;32m    112\u001b[0m     face_index \u001b[39m=\u001b[39m np\u001b[39m.\u001b[39mtile(np\u001b[39m.\u001b[39marange(\u001b[39mlen\u001b[39m(faces)),\n\u001b[1;32m    113\u001b[0m                          (\u001b[39m3\u001b[39m, \u001b[39m1\u001b[39m))\u001b[39m.\u001b[39mT\u001b[39m.\u001b[39mreshape(\u001b[39m-\u001b[39m\u001b[39m1\u001b[39m)\n",
      "\u001b[0;31mIndexError\u001b[0m: too many indices for array: array is 1-dimensional, but 2 were indexed"
     ]
    }
   ],
   "source": [
    "\n",
    "triangulator = Triangulator(Tetrahedron(), 1, \"edge\")\n",
    "triangulator.generate_random_triangluation(10)"
   ]
  },
  {
   "cell_type": "code",
   "execution_count": null,
   "metadata": {},
   "outputs": [],
   "source": []
  }
 ],
 "metadata": {
  "kernelspec": {
   "display_name": "Python 3.8.5 64-bit",
   "language": "python",
   "name": "python3"
  },
  "language_info": {
   "codemirror_mode": {
    "name": "ipython",
    "version": 3
   },
   "file_extension": ".py",
   "mimetype": "text/x-python",
   "name": "python",
   "nbconvert_exporter": "python",
   "pygments_lexer": "ipython3",
   "version": "3.8.5"
  },
  "orig_nbformat": 4,
  "vscode": {
   "interpreter": {
    "hash": "aee8b7b246df8f9039afb4144a1f6fd8d2ca17a180786b69acc140d282b71a49"
   }
  }
 },
 "nbformat": 4,
 "nbformat_minor": 2
}
